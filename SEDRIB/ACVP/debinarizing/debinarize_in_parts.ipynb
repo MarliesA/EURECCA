{
 "cells": [
  {
   "cell_type": "code",
   "execution_count": 1,
   "metadata": {},
   "outputs": [],
   "source": [
    "from datetime import datetime  # pour time count\n",
    "from raw_extract import raw_extract\n",
    "import os\n",
    "import pickle\n",
    "import numpy as np"
   ]
  },
  {
   "cell_type": "code",
   "execution_count": 2,
   "metadata": {},
   "outputs": [],
   "source": [
    "path = r'c:\\Temp\\raw_test_3C.udt'\n",
    "pathout = r'c:\\Temp'"
   ]
  },
  {
   "cell_type": "code",
   "execution_count": null,
   "metadata": {},
   "outputs": [],
   "source": [
    "path = r\"c:\\Temp\\dep1\\raw\\raw_20231101_160545.udt\"\n",
    "pathout = r\"c:\\Temp\\dep1\""
   ]
  },
  {
   "cell_type": "markdown",
   "metadata": {},
   "source": [
    "Do the actual debinarization"
   ]
  },
  {
   "cell_type": "code",
   "execution_count": 3,
   "metadata": {},
   "outputs": [
    {
     "name": "stdout",
     "output_type": "stream",
     "text": [
      "raw header :  UDT005\n",
      "board :  PC/APF06\n",
      "webui2 :  2.02.00\n",
      "header extension :  ['none', 'none\\x00\\x00\\x00\\x00\\x00\\x00\\x00\\x00\\x00']\n",
      "const: {'const_version': 1.2, 'product_model': 'UB-Lab 3C', 'serial_num': '220001', 'product_id': 'apf06proto1', 'apf_handler': 'apf06_handler', 'gain_blind_zone': {'a0_max': -5, 'a1_max': 1200}, 'sound_speed_constants': {'a0': 1402.385, 'a1': 5.038813, 'a2': -0.05799136, 'a3': 0.0003287156, 'a4': -1.398845e-06, 'a5': 2.78786e-09}, 'software': {'webui_version': '2.02.00', 'webui_sha': '61288597a70eb2841ca1fce1cafb914b7072ebba'}, 'hardware': {'board_version': 'PC/APF06', 'firmware_version': 'none', 'logic_version': 'none', 'f_sys': 36000000.0, 'max_configs': 1, 'n_boards': 1, 'route': {'tr0': {'channel': 0, 'receivers': ['tr1', 'tr2', 'tr3', 'tr4']}}, 'n_profile': {'min': 1, 'max': 65000, 'default': 30}, 'f0': {'min': 1000000.0, 'max': 1000000.0, 'default': 1000000.0}, 'r_em': {'min': 0, 'max': 200, 'default': 0.01}, 'r_vol1': {'min': 0, 'max': 10, 'default': 0.01}, 'r_dvol': {'min': 0.002, 'max': 2, 'default': 0.01}, 'prf': {'min': 1, 'max': 10000, 'default': 800}, 'n_vol': {'min': 2, 'max': 200, 'default': 50}, 'n_ech': {'min': 2, 'max': 128, 'default': 64}, 'a0': {'min': 14.688, 'max': 62.808, 'default': 60}, 'a1': {'min': 0, 'max': 1000, 'default': 0}, 'v_min': {'min': -10, 'max': 10, 'default': 0}}}\n",
      "initiating ubt_raw_data for board apf06\n",
      "settings: {'configs': {'num1': {'f0': 1000000.0, 'gain_function': {'auto': False, 'a0': 63.7505, 'a1': 0.0}, 'method': 'ppc_cont', 'n_ech': 128, 'n_profile': 1, 'n_vol': 200, 'phase_coding': True, 'prf': 600.6006006006006, 'r_dvol': 0.002245091561425781, 'r_em': 0.0029934554152343746, 'r_vol1': 0.005238546976660156, 'static_echo_filter': False, 'tr_in': ['tr1', 'tr2', 'tr3', 'tr4'], 'tr_out': 'tr0', 'v_min': -0.2200049965504261}}, 'global': {'comments': '', 'configuration_order': ['num1'], 'operator': '', 'ref': {'method': 'auto', 'value': 1327}, 'sound_speed': {'source': 'temperature', 'temperature': 25.0, 'value': 1496.7277076171874}, 'trigger_mode': 'none'}}\n",
      "End of file\n",
      "=============\n",
      "extract duration:0:00:05.689038\n",
      "===========\n",
      "apf06proto1\n",
      "2022-04-28 12:15:59.896000 2022-04-28 12:18:26.872000\n"
     ]
    }
   ],
   "source": [
    "extract_start = datetime.now()\n",
    "(\n",
    "    device_name,\n",
    "    time_begin,\n",
    "    time_end,\n",
    "    param_us_dicts,\n",
    "    data_us_dicts,\n",
    "    data_dicts,\n",
    "    settings_dict\n",
    ") = raw_extract(path)\n",
    "\n",
    "print(\n",
    "        \"=============\\nextract duration:%s\\n===========\"\n",
    "        % (datetime.now() - extract_start)\n",
    "    )\n",
    "print(device_name)\n",
    "print(time_begin, time_end)\n"
   ]
  },
  {
   "cell_type": "markdown",
   "metadata": {},
   "source": [
    "Extracted data are arranged in dictionnaries:"
   ]
  },
  {
   "cell_type": "code",
   "execution_count": 4,
   "metadata": {},
   "outputs": [
    {
     "name": "stdout",
     "output_type": "stream",
     "text": [
      "================\n",
      "Ultrasound (US) measurement parameter\n",
      "==================\n",
      "Configuration numbers available:  dict_keys([1])\n",
      "Receiving channels available for one of the configurations:  dict_keys([1, 2, 3, 4])\n",
      "US Parameters for one receiving channel of one of the configurations:  {'f0': 1000000.0, 'n_p': 128, 'n_avg': 1, 'n_cell': 200, 'phase_coding': True, 'prf': 600.6006006006006, 'r_dcell': 0.002245091561425781, 'r_em': 0.0029934554152343746, 'r_cell1': 0.005238546976660156, 'static_echo_filter': False, 'receiver': 'tr1', 'emitter': 'tr0', 'v_min': -0.2200049965504261, 'a0': 63.7505, 'a1': 0.0, 'operator': '', 'comments': '', 'sound_speed': 1496.7277076171874}\n"
     ]
    }
   ],
   "source": [
    "print(\"================\\nUltrasound (US) measurement parameter\\n==================\")\n",
    "print(\"Configuration numbers available: \", param_us_dicts.keys()) # gives the configuration numbers available in this set of data\n",
    "first_configuration = list(param_us_dicts.keys())[0] # gives the configuration number of the first available configuration\n",
    "print(\"Receiving channels available for one of the configurations: \", param_us_dicts[first_configuration].keys()) # gives the list of receiving channels (transducers) for this first configuration\n",
    "first_channel = list(param_us_dicts[first_configuration].keys())[0] # gives the channel number of the first available channel for this first configuration\n",
    "print(\"US Parameters for one receiving channel of one of the configurations: \", param_us_dicts[first_configuration][first_channel]) # gives the set of parameters used for the measurement of the data associated to this first configuration anad first receiving channel (emission frequency, PRF etc.)"
   ]
  },
  {
   "cell_type": "markdown",
   "metadata": {},
   "source": [
    "data_dicts: measured data not measured by ultrasound or not related directly those who ultrasound"
   ]
  },
  {
   "cell_type": "code",
   "execution_count": 5,
   "metadata": {},
   "outputs": [
    {
     "name": "stdout",
     "output_type": "stream",
     "text": [
      "\n",
      "================\n",
      "Non Ultrasound (US) measured/recorded data\n",
      "==================\n",
      "Available non US datatypes:  dict_keys(['pitch', 'roll', 'temperature'])\n",
      "timestamp list for the first datatype pitch:  [datetime.datetime(2022, 4, 28, 12, 15, 59, 896000), datetime.datetime(2022, 4, 28, 12, 16, 0, 105000), datetime.datetime(2022, 4, 28, 12, 16, 0, 314000), datetime.datetime(2022, 4, 28, 12, 16, 0, 523000), datetime.datetime(2022, 4, 28, 12, 16, 0, 731000), datetime.datetime(2022, 4, 28, 12, 16, 0, 940000), datetime.datetime(2022, 4, 28, 12, 16, 1, 149000), datetime.datetime(2022, 4, 28, 12, 16, 1, 358000), datetime.datetime(2022, 4, 28, 12, 16, 1, 567000), datetime.datetime(2022, 4, 28, 12, 16, 1, 775000), datetime.datetime(2022, 4, 28, 12, 16, 1, 984000), datetime.datetime(2022, 4, 28, 12, 16, 2, 193000), datetime.datetime(2022, 4, 28, 12, 16, 2, 402000), datetime.datetime(2022, 4, 28, 12, 16, 2, 610000), datetime.datetime(2022, 4, 28, 12, 16, 2, 819000), datetime.datetime(2022, 4, 28, 12, 16, 3, 28000), datetime.datetime(2022, 4, 28, 12, 16, 3, 237000), datetime.datetime(2022, 4, 28, 12, 16, 3, 445000), datetime.datetime(2022, 4, 28, 12, 16, 3, 654000), datetime.datetime(2022, 4, 28, 12, 16, 3, 863000), datetime.datetime(2022, 4, 28, 12, 16, 4, 72000), datetime.datetime(2022, 4, 28, 12, 16, 4, 281000), datetime.datetime(2022, 4, 28, 12, 16, 4, 489000), datetime.datetime(2022, 4, 28, 12, 16, 4, 698000), datetime.datetime(2022, 4, 28, 12, 16, 4, 907000), datetime.datetime(2022, 4, 28, 12, 16, 5, 116000), datetime.datetime(2022, 4, 28, 12, 16, 5, 324000), datetime.datetime(2022, 4, 28, 12, 16, 5, 533000), datetime.datetime(2022, 4, 28, 12, 16, 5, 742000), datetime.datetime(2022, 4, 28, 12, 16, 5, 951000), datetime.datetime(2022, 4, 28, 12, 16, 6, 160000), datetime.datetime(2022, 4, 28, 12, 16, 6, 368000), datetime.datetime(2022, 4, 28, 12, 16, 6, 577000), datetime.datetime(2022, 4, 28, 12, 16, 6, 786000), datetime.datetime(2022, 4, 28, 12, 16, 6, 995000), datetime.datetime(2022, 4, 28, 12, 16, 7, 203000), datetime.datetime(2022, 4, 28, 12, 16, 7, 412000), datetime.datetime(2022, 4, 28, 12, 16, 7, 621000), datetime.datetime(2022, 4, 28, 12, 16, 7, 830000), datetime.datetime(2022, 4, 28, 12, 16, 8, 38000), datetime.datetime(2022, 4, 28, 12, 16, 8, 247000), datetime.datetime(2022, 4, 28, 12, 16, 8, 456000), datetime.datetime(2022, 4, 28, 12, 16, 8, 665000), datetime.datetime(2022, 4, 28, 12, 16, 8, 874000), datetime.datetime(2022, 4, 28, 12, 16, 9, 82000), datetime.datetime(2022, 4, 28, 12, 16, 9, 291000), datetime.datetime(2022, 4, 28, 12, 16, 9, 500000), datetime.datetime(2022, 4, 28, 12, 16, 9, 709000), datetime.datetime(2022, 4, 28, 12, 16, 9, 917000), datetime.datetime(2022, 4, 28, 12, 16, 10, 126000), datetime.datetime(2022, 4, 28, 12, 16, 10, 335000), datetime.datetime(2022, 4, 28, 12, 16, 10, 544000), datetime.datetime(2022, 4, 28, 12, 16, 10, 752000), datetime.datetime(2022, 4, 28, 12, 16, 10, 961000), datetime.datetime(2022, 4, 28, 12, 16, 11, 170000), datetime.datetime(2022, 4, 28, 12, 16, 11, 379000), datetime.datetime(2022, 4, 28, 12, 16, 11, 588000), datetime.datetime(2022, 4, 28, 12, 16, 11, 796000), datetime.datetime(2022, 4, 28, 12, 16, 12, 5000), datetime.datetime(2022, 4, 28, 12, 16, 12, 214000), datetime.datetime(2022, 4, 28, 12, 16, 12, 423000), datetime.datetime(2022, 4, 28, 12, 16, 12, 631000), datetime.datetime(2022, 4, 28, 12, 16, 12, 840000), datetime.datetime(2022, 4, 28, 12, 16, 13, 49000), datetime.datetime(2022, 4, 28, 12, 16, 13, 258000), datetime.datetime(2022, 4, 28, 12, 16, 13, 467000), datetime.datetime(2022, 4, 28, 12, 16, 13, 675000), datetime.datetime(2022, 4, 28, 12, 16, 13, 884000), datetime.datetime(2022, 4, 28, 12, 16, 14, 93000), datetime.datetime(2022, 4, 28, 12, 16, 14, 302000), datetime.datetime(2022, 4, 28, 12, 16, 14, 510000), datetime.datetime(2022, 4, 28, 12, 16, 14, 719000), datetime.datetime(2022, 4, 28, 12, 16, 14, 928000), datetime.datetime(2022, 4, 28, 12, 16, 15, 137000), datetime.datetime(2022, 4, 28, 12, 16, 15, 345000), datetime.datetime(2022, 4, 28, 12, 16, 15, 554000), datetime.datetime(2022, 4, 28, 12, 16, 15, 763000), datetime.datetime(2022, 4, 28, 12, 16, 15, 972000), datetime.datetime(2022, 4, 28, 12, 16, 16, 181000), datetime.datetime(2022, 4, 28, 12, 16, 16, 389000), datetime.datetime(2022, 4, 28, 12, 16, 16, 598000), datetime.datetime(2022, 4, 28, 12, 16, 16, 807000), datetime.datetime(2022, 4, 28, 12, 16, 17, 16000), datetime.datetime(2022, 4, 28, 12, 16, 17, 224000), datetime.datetime(2022, 4, 28, 12, 16, 17, 433000), datetime.datetime(2022, 4, 28, 12, 16, 17, 642000), datetime.datetime(2022, 4, 28, 12, 16, 17, 851000), datetime.datetime(2022, 4, 28, 12, 16, 18, 59000), datetime.datetime(2022, 4, 28, 12, 16, 18, 268000), datetime.datetime(2022, 4, 28, 12, 16, 18, 477000), datetime.datetime(2022, 4, 28, 12, 16, 18, 686000), datetime.datetime(2022, 4, 28, 12, 16, 18, 895000), datetime.datetime(2022, 4, 28, 12, 16, 19, 103000), datetime.datetime(2022, 4, 28, 12, 16, 19, 312000), datetime.datetime(2022, 4, 28, 12, 16, 19, 521000), datetime.datetime(2022, 4, 28, 12, 16, 19, 730000), datetime.datetime(2022, 4, 28, 12, 16, 19, 938000), datetime.datetime(2022, 4, 28, 12, 16, 20, 147000), datetime.datetime(2022, 4, 28, 12, 16, 20, 356000), datetime.datetime(2022, 4, 28, 12, 16, 20, 565000), datetime.datetime(2022, 4, 28, 12, 16, 20, 774000), datetime.datetime(2022, 4, 28, 12, 16, 20, 982000), datetime.datetime(2022, 4, 28, 12, 16, 21, 191000), datetime.datetime(2022, 4, 28, 12, 16, 21, 400000), datetime.datetime(2022, 4, 28, 12, 16, 21, 609000), datetime.datetime(2022, 4, 28, 12, 16, 21, 817000), datetime.datetime(2022, 4, 28, 12, 16, 22, 26000), datetime.datetime(2022, 4, 28, 12, 16, 22, 235000), datetime.datetime(2022, 4, 28, 12, 16, 22, 444000), datetime.datetime(2022, 4, 28, 12, 16, 22, 652000), datetime.datetime(2022, 4, 28, 12, 16, 22, 861000), datetime.datetime(2022, 4, 28, 12, 16, 23, 70000), datetime.datetime(2022, 4, 28, 12, 16, 23, 279000), datetime.datetime(2022, 4, 28, 12, 16, 23, 488000), datetime.datetime(2022, 4, 28, 12, 16, 23, 696000), datetime.datetime(2022, 4, 28, 12, 16, 23, 905000), datetime.datetime(2022, 4, 28, 12, 16, 24, 114000), datetime.datetime(2022, 4, 28, 12, 16, 24, 323000), datetime.datetime(2022, 4, 28, 12, 16, 24, 531000), datetime.datetime(2022, 4, 28, 12, 16, 24, 740000), datetime.datetime(2022, 4, 28, 12, 16, 24, 949000), datetime.datetime(2022, 4, 28, 12, 16, 25, 158000), datetime.datetime(2022, 4, 28, 12, 16, 25, 367000), datetime.datetime(2022, 4, 28, 12, 16, 25, 575000), datetime.datetime(2022, 4, 28, 12, 16, 25, 784000), datetime.datetime(2022, 4, 28, 12, 16, 25, 993000), datetime.datetime(2022, 4, 28, 12, 16, 26, 202000), datetime.datetime(2022, 4, 28, 12, 16, 26, 410000), datetime.datetime(2022, 4, 28, 12, 16, 26, 619000), datetime.datetime(2022, 4, 28, 12, 16, 26, 828000), datetime.datetime(2022, 4, 28, 12, 16, 27, 37000), datetime.datetime(2022, 4, 28, 12, 16, 27, 245000), datetime.datetime(2022, 4, 28, 12, 16, 27, 454000), datetime.datetime(2022, 4, 28, 12, 16, 27, 663000), datetime.datetime(2022, 4, 28, 12, 16, 27, 872000), datetime.datetime(2022, 4, 28, 12, 16, 28, 81000), datetime.datetime(2022, 4, 28, 12, 16, 28, 289000), datetime.datetime(2022, 4, 28, 12, 16, 28, 498000), datetime.datetime(2022, 4, 28, 12, 16, 28, 707000), datetime.datetime(2022, 4, 28, 12, 16, 28, 916000), datetime.datetime(2022, 4, 28, 12, 16, 29, 124000), datetime.datetime(2022, 4, 28, 12, 16, 29, 333000), datetime.datetime(2022, 4, 28, 12, 16, 29, 542000), datetime.datetime(2022, 4, 28, 12, 16, 29, 751000), datetime.datetime(2022, 4, 28, 12, 16, 29, 959000), datetime.datetime(2022, 4, 28, 12, 16, 30, 168000), datetime.datetime(2022, 4, 28, 12, 16, 30, 377000), datetime.datetime(2022, 4, 28, 12, 16, 30, 586000), datetime.datetime(2022, 4, 28, 12, 16, 30, 795000), datetime.datetime(2022, 4, 28, 12, 16, 31, 3000), datetime.datetime(2022, 4, 28, 12, 16, 31, 212000), datetime.datetime(2022, 4, 28, 12, 16, 31, 421000), datetime.datetime(2022, 4, 28, 12, 16, 31, 630000), datetime.datetime(2022, 4, 28, 12, 16, 31, 838000), datetime.datetime(2022, 4, 28, 12, 16, 32, 47000), datetime.datetime(2022, 4, 28, 12, 16, 32, 256000), datetime.datetime(2022, 4, 28, 12, 16, 32, 465000), datetime.datetime(2022, 4, 28, 12, 16, 32, 674000), datetime.datetime(2022, 4, 28, 12, 16, 32, 882000), datetime.datetime(2022, 4, 28, 12, 16, 33, 91000), datetime.datetime(2022, 4, 28, 12, 16, 33, 300000), datetime.datetime(2022, 4, 28, 12, 16, 33, 509000), datetime.datetime(2022, 4, 28, 12, 16, 33, 717000), datetime.datetime(2022, 4, 28, 12, 16, 33, 926000), datetime.datetime(2022, 4, 28, 12, 16, 34, 135000), datetime.datetime(2022, 4, 28, 12, 16, 34, 344000), datetime.datetime(2022, 4, 28, 12, 16, 34, 552000), datetime.datetime(2022, 4, 28, 12, 16, 34, 761000), datetime.datetime(2022, 4, 28, 12, 16, 34, 970000), datetime.datetime(2022, 4, 28, 12, 16, 35, 179000), datetime.datetime(2022, 4, 28, 12, 16, 35, 388000), datetime.datetime(2022, 4, 28, 12, 16, 35, 596000), datetime.datetime(2022, 4, 28, 12, 16, 35, 805000), datetime.datetime(2022, 4, 28, 12, 16, 36, 14000), datetime.datetime(2022, 4, 28, 12, 16, 36, 223000), datetime.datetime(2022, 4, 28, 12, 16, 36, 431000), datetime.datetime(2022, 4, 28, 12, 16, 36, 640000), datetime.datetime(2022, 4, 28, 12, 16, 36, 849000), datetime.datetime(2022, 4, 28, 12, 16, 37, 58000), datetime.datetime(2022, 4, 28, 12, 16, 37, 266000), datetime.datetime(2022, 4, 28, 12, 16, 37, 475000), datetime.datetime(2022, 4, 28, 12, 16, 37, 684000), datetime.datetime(2022, 4, 28, 12, 16, 37, 893000), datetime.datetime(2022, 4, 28, 12, 16, 38, 102000), datetime.datetime(2022, 4, 28, 12, 16, 38, 310000), datetime.datetime(2022, 4, 28, 12, 16, 38, 519000), datetime.datetime(2022, 4, 28, 12, 16, 38, 728000), datetime.datetime(2022, 4, 28, 12, 16, 38, 937000), datetime.datetime(2022, 4, 28, 12, 16, 39, 145000), datetime.datetime(2022, 4, 28, 12, 16, 39, 354000), datetime.datetime(2022, 4, 28, 12, 16, 39, 563000), datetime.datetime(2022, 4, 28, 12, 16, 39, 772000), datetime.datetime(2022, 4, 28, 12, 16, 39, 981000), datetime.datetime(2022, 4, 28, 12, 16, 40, 189000), datetime.datetime(2022, 4, 28, 12, 16, 40, 398000), datetime.datetime(2022, 4, 28, 12, 16, 40, 607000), datetime.datetime(2022, 4, 28, 12, 16, 40, 816000), datetime.datetime(2022, 4, 28, 12, 16, 41, 24000), datetime.datetime(2022, 4, 28, 12, 16, 41, 233000), datetime.datetime(2022, 4, 28, 12, 16, 41, 442000), datetime.datetime(2022, 4, 28, 12, 16, 41, 651000), datetime.datetime(2022, 4, 28, 12, 16, 41, 859000), datetime.datetime(2022, 4, 28, 12, 16, 42, 68000), datetime.datetime(2022, 4, 28, 12, 16, 42, 277000), datetime.datetime(2022, 4, 28, 12, 16, 42, 486000), datetime.datetime(2022, 4, 28, 12, 16, 42, 695000), datetime.datetime(2022, 4, 28, 12, 16, 42, 903000), datetime.datetime(2022, 4, 28, 12, 16, 43, 112000), datetime.datetime(2022, 4, 28, 12, 16, 43, 321000), datetime.datetime(2022, 4, 28, 12, 16, 43, 530000), datetime.datetime(2022, 4, 28, 12, 16, 43, 738000), datetime.datetime(2022, 4, 28, 12, 16, 43, 947000), datetime.datetime(2022, 4, 28, 12, 16, 44, 156000), datetime.datetime(2022, 4, 28, 12, 16, 44, 365000), datetime.datetime(2022, 4, 28, 12, 16, 44, 573000), datetime.datetime(2022, 4, 28, 12, 16, 44, 782000), datetime.datetime(2022, 4, 28, 12, 16, 44, 991000), datetime.datetime(2022, 4, 28, 12, 16, 45, 200000), datetime.datetime(2022, 4, 28, 12, 16, 45, 409000), datetime.datetime(2022, 4, 28, 12, 16, 45, 617000), datetime.datetime(2022, 4, 28, 12, 16, 45, 826000), datetime.datetime(2022, 4, 28, 12, 16, 46, 35000), datetime.datetime(2022, 4, 28, 12, 16, 46, 244000), datetime.datetime(2022, 4, 28, 12, 16, 46, 452000), datetime.datetime(2022, 4, 28, 12, 16, 46, 661000), datetime.datetime(2022, 4, 28, 12, 16, 46, 870000), datetime.datetime(2022, 4, 28, 12, 16, 47, 79000), datetime.datetime(2022, 4, 28, 12, 16, 47, 288000), datetime.datetime(2022, 4, 28, 12, 16, 47, 496000), datetime.datetime(2022, 4, 28, 12, 16, 47, 705000), datetime.datetime(2022, 4, 28, 12, 16, 47, 914000), datetime.datetime(2022, 4, 28, 12, 16, 48, 123000), datetime.datetime(2022, 4, 28, 12, 16, 48, 331000), datetime.datetime(2022, 4, 28, 12, 16, 48, 540000), datetime.datetime(2022, 4, 28, 12, 16, 48, 749000), datetime.datetime(2022, 4, 28, 12, 16, 48, 958000), datetime.datetime(2022, 4, 28, 12, 16, 49, 166000), datetime.datetime(2022, 4, 28, 12, 16, 49, 375000), datetime.datetime(2022, 4, 28, 12, 16, 49, 584000), datetime.datetime(2022, 4, 28, 12, 16, 49, 793000), datetime.datetime(2022, 4, 28, 12, 16, 50, 2000), datetime.datetime(2022, 4, 28, 12, 16, 50, 210000), datetime.datetime(2022, 4, 28, 12, 16, 50, 419000), datetime.datetime(2022, 4, 28, 12, 16, 50, 628000), datetime.datetime(2022, 4, 28, 12, 16, 50, 837000), datetime.datetime(2022, 4, 28, 12, 16, 51, 45000), datetime.datetime(2022, 4, 28, 12, 16, 51, 254000), datetime.datetime(2022, 4, 28, 12, 16, 51, 463000), datetime.datetime(2022, 4, 28, 12, 16, 51, 672000), datetime.datetime(2022, 4, 28, 12, 16, 51, 880000), datetime.datetime(2022, 4, 28, 12, 16, 52, 89000), datetime.datetime(2022, 4, 28, 12, 16, 52, 298000), datetime.datetime(2022, 4, 28, 12, 16, 52, 507000), datetime.datetime(2022, 4, 28, 12, 16, 52, 716000), datetime.datetime(2022, 4, 28, 12, 16, 52, 924000), datetime.datetime(2022, 4, 28, 12, 16, 53, 133000), datetime.datetime(2022, 4, 28, 12, 16, 53, 342000), datetime.datetime(2022, 4, 28, 12, 16, 53, 551000), datetime.datetime(2022, 4, 28, 12, 16, 53, 759000), datetime.datetime(2022, 4, 28, 12, 16, 53, 968000), datetime.datetime(2022, 4, 28, 12, 16, 54, 177000), datetime.datetime(2022, 4, 28, 12, 16, 54, 386000), datetime.datetime(2022, 4, 28, 12, 16, 54, 595000), datetime.datetime(2022, 4, 28, 12, 16, 54, 803000), datetime.datetime(2022, 4, 28, 12, 16, 55, 12000), datetime.datetime(2022, 4, 28, 12, 16, 55, 221000), datetime.datetime(2022, 4, 28, 12, 16, 55, 430000), datetime.datetime(2022, 4, 28, 12, 16, 55, 638000), datetime.datetime(2022, 4, 28, 12, 16, 55, 847000), datetime.datetime(2022, 4, 28, 12, 16, 56, 56000), datetime.datetime(2022, 4, 28, 12, 16, 56, 265000), datetime.datetime(2022, 4, 28, 12, 16, 56, 473000), datetime.datetime(2022, 4, 28, 12, 16, 56, 682000), datetime.datetime(2022, 4, 28, 12, 16, 56, 891000), datetime.datetime(2022, 4, 28, 12, 16, 57, 100000), datetime.datetime(2022, 4, 28, 12, 16, 57, 309000), datetime.datetime(2022, 4, 28, 12, 16, 57, 517000), datetime.datetime(2022, 4, 28, 12, 16, 57, 726000), datetime.datetime(2022, 4, 28, 12, 16, 57, 935000), datetime.datetime(2022, 4, 28, 12, 16, 58, 144000), datetime.datetime(2022, 4, 28, 12, 16, 58, 352000), datetime.datetime(2022, 4, 28, 12, 16, 58, 561000), datetime.datetime(2022, 4, 28, 12, 16, 58, 770000), datetime.datetime(2022, 4, 28, 12, 16, 58, 979000), datetime.datetime(2022, 4, 28, 12, 16, 59, 188000), datetime.datetime(2022, 4, 28, 12, 16, 59, 396000), datetime.datetime(2022, 4, 28, 12, 16, 59, 605000), datetime.datetime(2022, 4, 28, 12, 16, 59, 814000), datetime.datetime(2022, 4, 28, 12, 17, 0, 23000), datetime.datetime(2022, 4, 28, 12, 17, 0, 231000), datetime.datetime(2022, 4, 28, 12, 17, 0, 440000), datetime.datetime(2022, 4, 28, 12, 17, 0, 649000), datetime.datetime(2022, 4, 28, 12, 17, 0, 858000), datetime.datetime(2022, 4, 28, 12, 17, 1, 66000), datetime.datetime(2022, 4, 28, 12, 17, 1, 275000), datetime.datetime(2022, 4, 28, 12, 17, 1, 484000), datetime.datetime(2022, 4, 28, 12, 17, 1, 693000), datetime.datetime(2022, 4, 28, 12, 17, 1, 902000), datetime.datetime(2022, 4, 28, 12, 17, 2, 110000), datetime.datetime(2022, 4, 28, 12, 17, 2, 319000), datetime.datetime(2022, 4, 28, 12, 17, 2, 528000), datetime.datetime(2022, 4, 28, 12, 17, 2, 737000), datetime.datetime(2022, 4, 28, 12, 17, 2, 945000), datetime.datetime(2022, 4, 28, 12, 17, 3, 154000), datetime.datetime(2022, 4, 28, 12, 17, 3, 363000), datetime.datetime(2022, 4, 28, 12, 17, 3, 572000), datetime.datetime(2022, 4, 28, 12, 17, 3, 780000), datetime.datetime(2022, 4, 28, 12, 17, 3, 989000), datetime.datetime(2022, 4, 28, 12, 17, 4, 198000), datetime.datetime(2022, 4, 28, 12, 17, 4, 407000), datetime.datetime(2022, 4, 28, 12, 17, 4, 616000), datetime.datetime(2022, 4, 28, 12, 17, 4, 824000), datetime.datetime(2022, 4, 28, 12, 17, 5, 33000), datetime.datetime(2022, 4, 28, 12, 17, 5, 242000), datetime.datetime(2022, 4, 28, 12, 17, 5, 451000), datetime.datetime(2022, 4, 28, 12, 17, 5, 659000), datetime.datetime(2022, 4, 28, 12, 17, 5, 868000), datetime.datetime(2022, 4, 28, 12, 17, 6, 77000), datetime.datetime(2022, 4, 28, 12, 17, 6, 286000), datetime.datetime(2022, 4, 28, 12, 17, 6, 495000), datetime.datetime(2022, 4, 28, 12, 17, 6, 703000), datetime.datetime(2022, 4, 28, 12, 17, 6, 912000), datetime.datetime(2022, 4, 28, 12, 17, 7, 121000), datetime.datetime(2022, 4, 28, 12, 17, 7, 330000), datetime.datetime(2022, 4, 28, 12, 17, 7, 538000), datetime.datetime(2022, 4, 28, 12, 17, 7, 747000), datetime.datetime(2022, 4, 28, 12, 17, 7, 956000), datetime.datetime(2022, 4, 28, 12, 17, 8, 165000), datetime.datetime(2022, 4, 28, 12, 17, 8, 373000), datetime.datetime(2022, 4, 28, 12, 17, 8, 582000), datetime.datetime(2022, 4, 28, 12, 17, 8, 791000), datetime.datetime(2022, 4, 28, 12, 17, 9), datetime.datetime(2022, 4, 28, 12, 17, 9, 209000), datetime.datetime(2022, 4, 28, 12, 17, 9, 417000), datetime.datetime(2022, 4, 28, 12, 17, 9, 626000), datetime.datetime(2022, 4, 28, 12, 17, 9, 835000), datetime.datetime(2022, 4, 28, 12, 17, 10, 44000), datetime.datetime(2022, 4, 28, 12, 17, 10, 252000), datetime.datetime(2022, 4, 28, 12, 17, 10, 461000), datetime.datetime(2022, 4, 28, 12, 17, 10, 670000), datetime.datetime(2022, 4, 28, 12, 17, 10, 879000), datetime.datetime(2022, 4, 28, 12, 17, 11, 87000), datetime.datetime(2022, 4, 28, 12, 17, 11, 296000), datetime.datetime(2022, 4, 28, 12, 17, 11, 505000), datetime.datetime(2022, 4, 28, 12, 17, 11, 714000), datetime.datetime(2022, 4, 28, 12, 17, 11, 923000), datetime.datetime(2022, 4, 28, 12, 17, 12, 131000), datetime.datetime(2022, 4, 28, 12, 17, 12, 340000), datetime.datetime(2022, 4, 28, 12, 17, 12, 549000), datetime.datetime(2022, 4, 28, 12, 17, 12, 758000), datetime.datetime(2022, 4, 28, 12, 17, 12, 966000), datetime.datetime(2022, 4, 28, 12, 17, 13, 175000), datetime.datetime(2022, 4, 28, 12, 17, 13, 384000), datetime.datetime(2022, 4, 28, 12, 17, 13, 593000), datetime.datetime(2022, 4, 28, 12, 17, 13, 802000), datetime.datetime(2022, 4, 28, 12, 17, 14, 10000), datetime.datetime(2022, 4, 28, 12, 17, 14, 219000), datetime.datetime(2022, 4, 28, 12, 17, 14, 428000), datetime.datetime(2022, 4, 28, 12, 17, 14, 637000), datetime.datetime(2022, 4, 28, 12, 17, 14, 845000), datetime.datetime(2022, 4, 28, 12, 17, 15, 54000), datetime.datetime(2022, 4, 28, 12, 17, 15, 263000), datetime.datetime(2022, 4, 28, 12, 17, 15, 472000), datetime.datetime(2022, 4, 28, 12, 17, 15, 680000), datetime.datetime(2022, 4, 28, 12, 17, 15, 889000), datetime.datetime(2022, 4, 28, 12, 17, 16, 98000), datetime.datetime(2022, 4, 28, 12, 17, 16, 307000), datetime.datetime(2022, 4, 28, 12, 17, 16, 516000), datetime.datetime(2022, 4, 28, 12, 17, 16, 724000), datetime.datetime(2022, 4, 28, 12, 17, 16, 933000), datetime.datetime(2022, 4, 28, 12, 17, 17, 142000), datetime.datetime(2022, 4, 28, 12, 17, 17, 351000), datetime.datetime(2022, 4, 28, 12, 17, 17, 559000), datetime.datetime(2022, 4, 28, 12, 17, 17, 768000), datetime.datetime(2022, 4, 28, 12, 17, 17, 977000), datetime.datetime(2022, 4, 28, 12, 17, 18, 186000), datetime.datetime(2022, 4, 28, 12, 17, 18, 394000), datetime.datetime(2022, 4, 28, 12, 17, 18, 603000), datetime.datetime(2022, 4, 28, 12, 17, 18, 812000), datetime.datetime(2022, 4, 28, 12, 17, 19, 21000), datetime.datetime(2022, 4, 28, 12, 17, 19, 230000), datetime.datetime(2022, 4, 28, 12, 17, 19, 438000), datetime.datetime(2022, 4, 28, 12, 17, 19, 647000), datetime.datetime(2022, 4, 28, 12, 17, 19, 856000), datetime.datetime(2022, 4, 28, 12, 17, 20, 65000), datetime.datetime(2022, 4, 28, 12, 17, 20, 273000), datetime.datetime(2022, 4, 28, 12, 17, 20, 482000), datetime.datetime(2022, 4, 28, 12, 17, 20, 691000), datetime.datetime(2022, 4, 28, 12, 17, 20, 900000), datetime.datetime(2022, 4, 28, 12, 17, 21, 109000), datetime.datetime(2022, 4, 28, 12, 17, 21, 317000), datetime.datetime(2022, 4, 28, 12, 17, 21, 526000), datetime.datetime(2022, 4, 28, 12, 17, 21, 735000), datetime.datetime(2022, 4, 28, 12, 17, 21, 944000), datetime.datetime(2022, 4, 28, 12, 17, 22, 152000), datetime.datetime(2022, 4, 28, 12, 17, 22, 361000), datetime.datetime(2022, 4, 28, 12, 17, 22, 570000), datetime.datetime(2022, 4, 28, 12, 17, 22, 779000), datetime.datetime(2022, 4, 28, 12, 17, 22, 987000), datetime.datetime(2022, 4, 28, 12, 17, 23, 196000), datetime.datetime(2022, 4, 28, 12, 17, 23, 405000), datetime.datetime(2022, 4, 28, 12, 17, 23, 614000), datetime.datetime(2022, 4, 28, 12, 17, 23, 823000), datetime.datetime(2022, 4, 28, 12, 17, 24, 31000), datetime.datetime(2022, 4, 28, 12, 17, 24, 240000), datetime.datetime(2022, 4, 28, 12, 17, 24, 449000), datetime.datetime(2022, 4, 28, 12, 17, 24, 658000), datetime.datetime(2022, 4, 28, 12, 17, 24, 866000), datetime.datetime(2022, 4, 28, 12, 17, 25, 75000), datetime.datetime(2022, 4, 28, 12, 17, 25, 284000), datetime.datetime(2022, 4, 28, 12, 17, 25, 493000), datetime.datetime(2022, 4, 28, 12, 17, 25, 701000), datetime.datetime(2022, 4, 28, 12, 17, 25, 910000), datetime.datetime(2022, 4, 28, 12, 17, 26, 119000), datetime.datetime(2022, 4, 28, 12, 17, 26, 328000), datetime.datetime(2022, 4, 28, 12, 17, 26, 537000), datetime.datetime(2022, 4, 28, 12, 17, 26, 745000), datetime.datetime(2022, 4, 28, 12, 17, 26, 954000), datetime.datetime(2022, 4, 28, 12, 17, 27, 163000), datetime.datetime(2022, 4, 28, 12, 17, 27, 372000), datetime.datetime(2022, 4, 28, 12, 17, 27, 580000), datetime.datetime(2022, 4, 28, 12, 17, 27, 789000), datetime.datetime(2022, 4, 28, 12, 17, 27, 998000), datetime.datetime(2022, 4, 28, 12, 17, 28, 207000), datetime.datetime(2022, 4, 28, 12, 17, 28, 416000), datetime.datetime(2022, 4, 28, 12, 17, 28, 624000), datetime.datetime(2022, 4, 28, 12, 17, 28, 833000), datetime.datetime(2022, 4, 28, 12, 17, 29, 42000), datetime.datetime(2022, 4, 28, 12, 17, 29, 251000), datetime.datetime(2022, 4, 28, 12, 17, 29, 459000), datetime.datetime(2022, 4, 28, 12, 17, 29, 668000), datetime.datetime(2022, 4, 28, 12, 17, 29, 877000), datetime.datetime(2022, 4, 28, 12, 17, 30, 86000), datetime.datetime(2022, 4, 28, 12, 17, 30, 294000), datetime.datetime(2022, 4, 28, 12, 17, 30, 503000), datetime.datetime(2022, 4, 28, 12, 17, 30, 712000), datetime.datetime(2022, 4, 28, 12, 17, 30, 921000), datetime.datetime(2022, 4, 28, 12, 17, 31, 130000), datetime.datetime(2022, 4, 28, 12, 17, 31, 338000), datetime.datetime(2022, 4, 28, 12, 17, 31, 547000), datetime.datetime(2022, 4, 28, 12, 17, 31, 756000), datetime.datetime(2022, 4, 28, 12, 17, 31, 965000), datetime.datetime(2022, 4, 28, 12, 17, 32, 173000), datetime.datetime(2022, 4, 28, 12, 17, 32, 382000), datetime.datetime(2022, 4, 28, 12, 17, 32, 591000), datetime.datetime(2022, 4, 28, 12, 17, 32, 800000), datetime.datetime(2022, 4, 28, 12, 17, 33, 9000), datetime.datetime(2022, 4, 28, 12, 17, 33, 217000), datetime.datetime(2022, 4, 28, 12, 17, 33, 426000), datetime.datetime(2022, 4, 28, 12, 17, 33, 635000), datetime.datetime(2022, 4, 28, 12, 17, 33, 844000), datetime.datetime(2022, 4, 28, 12, 17, 34, 52000), datetime.datetime(2022, 4, 28, 12, 17, 34, 261000), datetime.datetime(2022, 4, 28, 12, 17, 34, 470000), datetime.datetime(2022, 4, 28, 12, 17, 34, 679000), datetime.datetime(2022, 4, 28, 12, 17, 34, 887000), datetime.datetime(2022, 4, 28, 12, 17, 35, 96000), datetime.datetime(2022, 4, 28, 12, 17, 35, 305000), datetime.datetime(2022, 4, 28, 12, 17, 35, 514000), datetime.datetime(2022, 4, 28, 12, 17, 35, 723000), datetime.datetime(2022, 4, 28, 12, 17, 35, 931000), datetime.datetime(2022, 4, 28, 12, 17, 36, 140000), datetime.datetime(2022, 4, 28, 12, 17, 36, 349000), datetime.datetime(2022, 4, 28, 12, 17, 36, 558000), datetime.datetime(2022, 4, 28, 12, 17, 36, 766000), datetime.datetime(2022, 4, 28, 12, 17, 36, 975000), datetime.datetime(2022, 4, 28, 12, 17, 37, 184000), datetime.datetime(2022, 4, 28, 12, 17, 37, 393000), datetime.datetime(2022, 4, 28, 12, 17, 37, 601000), datetime.datetime(2022, 4, 28, 12, 17, 37, 810000), datetime.datetime(2022, 4, 28, 12, 17, 38, 19000), datetime.datetime(2022, 4, 28, 12, 17, 38, 228000), datetime.datetime(2022, 4, 28, 12, 17, 38, 437000), datetime.datetime(2022, 4, 28, 12, 17, 38, 645000), datetime.datetime(2022, 4, 28, 12, 17, 38, 854000), datetime.datetime(2022, 4, 28, 12, 17, 39, 63000), datetime.datetime(2022, 4, 28, 12, 17, 39, 272000), datetime.datetime(2022, 4, 28, 12, 17, 39, 480000), datetime.datetime(2022, 4, 28, 12, 17, 39, 689000), datetime.datetime(2022, 4, 28, 12, 17, 39, 898000), datetime.datetime(2022, 4, 28, 12, 17, 40, 107000), datetime.datetime(2022, 4, 28, 12, 17, 40, 316000), datetime.datetime(2022, 4, 28, 12, 17, 40, 524000), datetime.datetime(2022, 4, 28, 12, 17, 40, 733000), datetime.datetime(2022, 4, 28, 12, 17, 40, 942000), datetime.datetime(2022, 4, 28, 12, 17, 41, 151000), datetime.datetime(2022, 4, 28, 12, 17, 41, 359000), datetime.datetime(2022, 4, 28, 12, 17, 41, 568000), datetime.datetime(2022, 4, 28, 12, 17, 41, 777000), datetime.datetime(2022, 4, 28, 12, 17, 41, 986000), datetime.datetime(2022, 4, 28, 12, 17, 42, 194000), datetime.datetime(2022, 4, 28, 12, 17, 42, 403000), datetime.datetime(2022, 4, 28, 12, 17, 42, 612000), datetime.datetime(2022, 4, 28, 12, 17, 42, 821000), datetime.datetime(2022, 4, 28, 12, 17, 43, 30000), datetime.datetime(2022, 4, 28, 12, 17, 43, 238000), datetime.datetime(2022, 4, 28, 12, 17, 43, 447000), datetime.datetime(2022, 4, 28, 12, 17, 43, 656000), datetime.datetime(2022, 4, 28, 12, 17, 43, 865000), datetime.datetime(2022, 4, 28, 12, 17, 44, 73000), datetime.datetime(2022, 4, 28, 12, 17, 44, 282000), datetime.datetime(2022, 4, 28, 12, 17, 44, 491000), datetime.datetime(2022, 4, 28, 12, 17, 44, 700000), datetime.datetime(2022, 4, 28, 12, 17, 44, 908000), datetime.datetime(2022, 4, 28, 12, 17, 45, 117000), datetime.datetime(2022, 4, 28, 12, 17, 45, 326000), datetime.datetime(2022, 4, 28, 12, 17, 45, 535000), datetime.datetime(2022, 4, 28, 12, 17, 45, 744000), datetime.datetime(2022, 4, 28, 12, 17, 45, 952000), datetime.datetime(2022, 4, 28, 12, 17, 46, 161000), datetime.datetime(2022, 4, 28, 12, 17, 46, 370000), datetime.datetime(2022, 4, 28, 12, 17, 46, 579000), datetime.datetime(2022, 4, 28, 12, 17, 46, 787000), datetime.datetime(2022, 4, 28, 12, 17, 46, 996000), datetime.datetime(2022, 4, 28, 12, 17, 47, 205000), datetime.datetime(2022, 4, 28, 12, 17, 47, 414000), datetime.datetime(2022, 4, 28, 12, 17, 47, 623000), datetime.datetime(2022, 4, 28, 12, 17, 47, 831000), datetime.datetime(2022, 4, 28, 12, 17, 48, 40000), datetime.datetime(2022, 4, 28, 12, 17, 48, 249000), datetime.datetime(2022, 4, 28, 12, 17, 48, 458000), datetime.datetime(2022, 4, 28, 12, 17, 48, 666000), datetime.datetime(2022, 4, 28, 12, 17, 48, 875000), datetime.datetime(2022, 4, 28, 12, 17, 49, 84000), datetime.datetime(2022, 4, 28, 12, 17, 49, 293000), datetime.datetime(2022, 4, 28, 12, 17, 49, 501000), datetime.datetime(2022, 4, 28, 12, 17, 49, 710000), datetime.datetime(2022, 4, 28, 12, 17, 49, 919000), datetime.datetime(2022, 4, 28, 12, 17, 50, 128000), datetime.datetime(2022, 4, 28, 12, 17, 50, 337000), datetime.datetime(2022, 4, 28, 12, 17, 50, 545000), datetime.datetime(2022, 4, 28, 12, 17, 50, 754000), datetime.datetime(2022, 4, 28, 12, 17, 50, 963000), datetime.datetime(2022, 4, 28, 12, 17, 51, 172000), datetime.datetime(2022, 4, 28, 12, 17, 51, 380000), datetime.datetime(2022, 4, 28, 12, 17, 51, 589000), datetime.datetime(2022, 4, 28, 12, 17, 51, 798000), datetime.datetime(2022, 4, 28, 12, 17, 52, 7000), datetime.datetime(2022, 4, 28, 12, 17, 52, 215000), datetime.datetime(2022, 4, 28, 12, 17, 52, 424000), datetime.datetime(2022, 4, 28, 12, 17, 52, 633000), datetime.datetime(2022, 4, 28, 12, 17, 52, 842000), datetime.datetime(2022, 4, 28, 12, 17, 53, 51000), datetime.datetime(2022, 4, 28, 12, 17, 53, 259000), datetime.datetime(2022, 4, 28, 12, 17, 53, 468000), datetime.datetime(2022, 4, 28, 12, 17, 53, 677000), datetime.datetime(2022, 4, 28, 12, 17, 53, 886000), datetime.datetime(2022, 4, 28, 12, 17, 54, 94000), datetime.datetime(2022, 4, 28, 12, 17, 54, 303000), datetime.datetime(2022, 4, 28, 12, 17, 54, 512000), datetime.datetime(2022, 4, 28, 12, 17, 54, 721000), datetime.datetime(2022, 4, 28, 12, 17, 54, 930000), datetime.datetime(2022, 4, 28, 12, 17, 55, 138000), datetime.datetime(2022, 4, 28, 12, 17, 55, 347000), datetime.datetime(2022, 4, 28, 12, 17, 55, 556000), datetime.datetime(2022, 4, 28, 12, 17, 55, 765000), datetime.datetime(2022, 4, 28, 12, 17, 55, 973000), datetime.datetime(2022, 4, 28, 12, 17, 56, 182000), datetime.datetime(2022, 4, 28, 12, 17, 56, 391000), datetime.datetime(2022, 4, 28, 12, 17, 56, 600000), datetime.datetime(2022, 4, 28, 12, 17, 56, 808000), datetime.datetime(2022, 4, 28, 12, 17, 57, 17000), datetime.datetime(2022, 4, 28, 12, 17, 57, 226000), datetime.datetime(2022, 4, 28, 12, 17, 57, 435000), datetime.datetime(2022, 4, 28, 12, 17, 57, 644000), datetime.datetime(2022, 4, 28, 12, 17, 57, 852000), datetime.datetime(2022, 4, 28, 12, 17, 58, 61000), datetime.datetime(2022, 4, 28, 12, 17, 58, 270000), datetime.datetime(2022, 4, 28, 12, 17, 58, 479000), datetime.datetime(2022, 4, 28, 12, 17, 58, 687000), datetime.datetime(2022, 4, 28, 12, 17, 58, 896000), datetime.datetime(2022, 4, 28, 12, 17, 59, 105000), datetime.datetime(2022, 4, 28, 12, 17, 59, 314000), datetime.datetime(2022, 4, 28, 12, 17, 59, 522000), datetime.datetime(2022, 4, 28, 12, 17, 59, 731000), datetime.datetime(2022, 4, 28, 12, 17, 59, 940000), datetime.datetime(2022, 4, 28, 12, 18, 0, 149000), datetime.datetime(2022, 4, 28, 12, 18, 0, 358000), datetime.datetime(2022, 4, 28, 12, 18, 0, 566000), datetime.datetime(2022, 4, 28, 12, 18, 0, 775000), datetime.datetime(2022, 4, 28, 12, 18, 0, 984000), datetime.datetime(2022, 4, 28, 12, 18, 1, 193000), datetime.datetime(2022, 4, 28, 12, 18, 1, 401000), datetime.datetime(2022, 4, 28, 12, 18, 1, 610000), datetime.datetime(2022, 4, 28, 12, 18, 1, 819000), datetime.datetime(2022, 4, 28, 12, 18, 2, 28000), datetime.datetime(2022, 4, 28, 12, 18, 2, 237000), datetime.datetime(2022, 4, 28, 12, 18, 2, 445000), datetime.datetime(2022, 4, 28, 12, 18, 2, 654000), datetime.datetime(2022, 4, 28, 12, 18, 2, 863000), datetime.datetime(2022, 4, 28, 12, 18, 3, 72000), datetime.datetime(2022, 4, 28, 12, 18, 3, 280000), datetime.datetime(2022, 4, 28, 12, 18, 3, 489000), datetime.datetime(2022, 4, 28, 12, 18, 3, 698000), datetime.datetime(2022, 4, 28, 12, 18, 3, 907000), datetime.datetime(2022, 4, 28, 12, 18, 4, 115000), datetime.datetime(2022, 4, 28, 12, 18, 4, 324000), datetime.datetime(2022, 4, 28, 12, 18, 4, 533000), datetime.datetime(2022, 4, 28, 12, 18, 4, 742000), datetime.datetime(2022, 4, 28, 12, 18, 4, 951000), datetime.datetime(2022, 4, 28, 12, 18, 5, 159000), datetime.datetime(2022, 4, 28, 12, 18, 5, 368000), datetime.datetime(2022, 4, 28, 12, 18, 5, 577000), datetime.datetime(2022, 4, 28, 12, 18, 5, 786000), datetime.datetime(2022, 4, 28, 12, 18, 5, 994000), datetime.datetime(2022, 4, 28, 12, 18, 6, 203000), datetime.datetime(2022, 4, 28, 12, 18, 6, 412000), datetime.datetime(2022, 4, 28, 12, 18, 6, 621000), datetime.datetime(2022, 4, 28, 12, 18, 6, 829000), datetime.datetime(2022, 4, 28, 12, 18, 7, 38000), datetime.datetime(2022, 4, 28, 12, 18, 7, 247000), datetime.datetime(2022, 4, 28, 12, 18, 7, 456000), datetime.datetime(2022, 4, 28, 12, 18, 7, 665000), datetime.datetime(2022, 4, 28, 12, 18, 7, 873000), datetime.datetime(2022, 4, 28, 12, 18, 8, 82000), datetime.datetime(2022, 4, 28, 12, 18, 8, 291000), datetime.datetime(2022, 4, 28, 12, 18, 8, 500000), datetime.datetime(2022, 4, 28, 12, 18, 8, 708000), datetime.datetime(2022, 4, 28, 12, 18, 8, 917000), datetime.datetime(2022, 4, 28, 12, 18, 9, 126000), datetime.datetime(2022, 4, 28, 12, 18, 9, 335000), datetime.datetime(2022, 4, 28, 12, 18, 9, 544000), datetime.datetime(2022, 4, 28, 12, 18, 9, 752000), datetime.datetime(2022, 4, 28, 12, 18, 9, 961000), datetime.datetime(2022, 4, 28, 12, 18, 10, 170000), datetime.datetime(2022, 4, 28, 12, 18, 10, 379000), datetime.datetime(2022, 4, 28, 12, 18, 10, 587000), datetime.datetime(2022, 4, 28, 12, 18, 10, 796000), datetime.datetime(2022, 4, 28, 12, 18, 11, 5000), datetime.datetime(2022, 4, 28, 12, 18, 11, 214000), datetime.datetime(2022, 4, 28, 12, 18, 11, 422000), datetime.datetime(2022, 4, 28, 12, 18, 11, 631000), datetime.datetime(2022, 4, 28, 12, 18, 11, 840000), datetime.datetime(2022, 4, 28, 12, 18, 12, 49000), datetime.datetime(2022, 4, 28, 12, 18, 12, 258000), datetime.datetime(2022, 4, 28, 12, 18, 12, 466000), datetime.datetime(2022, 4, 28, 12, 18, 12, 675000), datetime.datetime(2022, 4, 28, 12, 18, 12, 884000), datetime.datetime(2022, 4, 28, 12, 18, 13, 93000), datetime.datetime(2022, 4, 28, 12, 18, 13, 301000), datetime.datetime(2022, 4, 28, 12, 18, 13, 510000), datetime.datetime(2022, 4, 28, 12, 18, 13, 719000), datetime.datetime(2022, 4, 28, 12, 18, 13, 928000), datetime.datetime(2022, 4, 28, 12, 18, 14, 137000), datetime.datetime(2022, 4, 28, 12, 18, 14, 345000), datetime.datetime(2022, 4, 28, 12, 18, 14, 554000), datetime.datetime(2022, 4, 28, 12, 18, 14, 763000), datetime.datetime(2022, 4, 28, 12, 18, 14, 972000), datetime.datetime(2022, 4, 28, 12, 18, 15, 180000), datetime.datetime(2022, 4, 28, 12, 18, 15, 389000), datetime.datetime(2022, 4, 28, 12, 18, 15, 598000), datetime.datetime(2022, 4, 28, 12, 18, 15, 807000), datetime.datetime(2022, 4, 28, 12, 18, 16, 15000), datetime.datetime(2022, 4, 28, 12, 18, 16, 224000), datetime.datetime(2022, 4, 28, 12, 18, 16, 433000), datetime.datetime(2022, 4, 28, 12, 18, 16, 642000), datetime.datetime(2022, 4, 28, 12, 18, 16, 851000), datetime.datetime(2022, 4, 28, 12, 18, 17, 59000), datetime.datetime(2022, 4, 28, 12, 18, 17, 268000), datetime.datetime(2022, 4, 28, 12, 18, 17, 477000), datetime.datetime(2022, 4, 28, 12, 18, 17, 686000), datetime.datetime(2022, 4, 28, 12, 18, 17, 894000), datetime.datetime(2022, 4, 28, 12, 18, 18, 103000), datetime.datetime(2022, 4, 28, 12, 18, 18, 312000), datetime.datetime(2022, 4, 28, 12, 18, 18, 521000), datetime.datetime(2022, 4, 28, 12, 18, 18, 729000), datetime.datetime(2022, 4, 28, 12, 18, 18, 938000), datetime.datetime(2022, 4, 28, 12, 18, 19, 147000), datetime.datetime(2022, 4, 28, 12, 18, 19, 356000), datetime.datetime(2022, 4, 28, 12, 18, 19, 565000), datetime.datetime(2022, 4, 28, 12, 18, 19, 773000), datetime.datetime(2022, 4, 28, 12, 18, 19, 982000), datetime.datetime(2022, 4, 28, 12, 18, 20, 191000), datetime.datetime(2022, 4, 28, 12, 18, 20, 400000), datetime.datetime(2022, 4, 28, 12, 18, 20, 608000), datetime.datetime(2022, 4, 28, 12, 18, 20, 817000), datetime.datetime(2022, 4, 28, 12, 18, 21, 26000), datetime.datetime(2022, 4, 28, 12, 18, 21, 235000), datetime.datetime(2022, 4, 28, 12, 18, 21, 444000), datetime.datetime(2022, 4, 28, 12, 18, 21, 652000), datetime.datetime(2022, 4, 28, 12, 18, 21, 861000), datetime.datetime(2022, 4, 28, 12, 18, 22, 70000), datetime.datetime(2022, 4, 28, 12, 18, 22, 279000), datetime.datetime(2022, 4, 28, 12, 18, 22, 487000), datetime.datetime(2022, 4, 28, 12, 18, 22, 696000), datetime.datetime(2022, 4, 28, 12, 18, 22, 905000), datetime.datetime(2022, 4, 28, 12, 18, 23, 114000), datetime.datetime(2022, 4, 28, 12, 18, 23, 322000), datetime.datetime(2022, 4, 28, 12, 18, 23, 531000), datetime.datetime(2022, 4, 28, 12, 18, 23, 740000), datetime.datetime(2022, 4, 28, 12, 18, 23, 949000), datetime.datetime(2022, 4, 28, 12, 18, 24, 158000), datetime.datetime(2022, 4, 28, 12, 18, 24, 366000), datetime.datetime(2022, 4, 28, 12, 18, 24, 575000), datetime.datetime(2022, 4, 28, 12, 18, 24, 784000), datetime.datetime(2022, 4, 28, 12, 18, 24, 993000), datetime.datetime(2022, 4, 28, 12, 18, 25, 201000), datetime.datetime(2022, 4, 28, 12, 18, 25, 410000), datetime.datetime(2022, 4, 28, 12, 18, 25, 619000), datetime.datetime(2022, 4, 28, 12, 18, 25, 828000), datetime.datetime(2022, 4, 28, 12, 18, 26, 36000), datetime.datetime(2022, 4, 28, 12, 18, 26, 245000), datetime.datetime(2022, 4, 28, 12, 18, 26, 454000), datetime.datetime(2022, 4, 28, 12, 18, 26, 663000), datetime.datetime(2022, 4, 28, 12, 18, 26, 872000)]\n",
      "and corresponding data:  [0.0, 0.0, 0.0, 0.0, 0.0, 0.0, 0.0, 0.0, 0.0, 0.0, 0.0, 0.0, 0.0, 0.0, 0.0, 0.0, 0.0, 0.0, 0.0, 0.0, 0.0, 0.0, 0.0, 0.0, 0.0, 0.0, 0.0, 0.0, 0.0, 0.0, 0.0, 0.0, 0.0, 0.0, 0.0, 0.0, 0.0, 0.0, 0.0, 0.0, 0.0, 0.0, 0.0, 0.0, 0.0, 0.0, 0.0, 0.0, 0.0, 0.0, 0.0, 0.0, 0.0, 0.0, 0.0, 0.0, 0.0, 0.0, 0.0, 0.0, 0.0, 0.0, 0.0, 0.0, 0.0, 0.0, 0.0, 0.0, 0.0, 0.0, 0.0, 0.0, 0.0, 0.0, 0.0, 0.0, 0.0, 0.0, 0.0, 0.0, 0.0, 0.0, 0.0, 0.0, 0.0, 0.0, 0.0, 0.0, 0.0, 0.0, 0.0, 0.0, 0.0, 0.0, 0.0, 0.0, 0.0, 0.0, 0.0, 0.0, 0.0, 0.0, 0.0, 0.0, 0.0, 0.0, 0.0, 0.0, 0.0, 0.0, 0.0, 0.0, 0.0, 0.0, 0.0, 0.0, 0.0, 0.0, 0.0, 0.0, 0.0, 0.0, 0.0, 0.0, 0.0, 0.0, 0.0, 0.0, 0.0, 0.0, 0.0, 0.0, 0.0, 0.0, 0.0, 0.0, 0.0, 0.0, 0.0, 0.0, 0.0, 0.0, 0.0, 0.0, 0.0, 0.0, 0.0, 0.0, 0.0, 0.0, 0.0, 0.0, 0.0, 0.0, 0.0, 0.0, 0.0, 0.0, 0.0, 0.0, 0.0, 0.0, 0.0, 0.0, 0.0, 0.0, 0.0, 0.0, 0.0, 0.0, 0.0, 0.0, 0.0, 0.0, 0.0, 0.0, 0.0, 0.0, 0.0, 0.0, 0.0, 0.0, 0.0, 0.0, 0.0, 0.0, 0.0, 0.0, 0.0, 0.0, 0.0, 0.0, 0.0, 0.0, 0.0, 0.0, 0.0, 0.0, 0.0, 0.0, 0.0, 0.0, 0.0, 0.0, 0.0, 0.0, 0.0, 0.0, 0.0, 0.0, 0.0, 0.0, 0.0, 0.0, 0.0, 0.0, 0.0, 0.0, 0.0, 0.0, 0.0, 0.0, 0.0, 0.0, 0.0, 0.0, 0.0, 0.0, 0.0, 0.0, 0.0, 0.0, 0.0, 0.0, 0.0, 0.0, 0.0, 0.0, 0.0, 0.0, 0.0, 0.0, 0.0, 0.0, 0.0, 0.0, 0.0, 0.0, 0.0, 0.0, 0.0, 0.0, 0.0, 0.0, 0.0, 0.0, 0.0, 0.0, 0.0, 0.0, 0.0, 0.0, 0.0, 0.0, 0.0, 0.0, 0.0, 0.0, 0.0, 0.0, 0.0, 0.0, 0.0, 0.0, 0.0, 0.0, 0.0, 0.0, 0.0, 0.0, 0.0, 0.0, 0.0, 0.0, 0.0, 0.0, 0.0, 0.0, 0.0, 0.0, 0.0, 0.0, 0.0, 0.0, 0.0, 0.0, 0.0, 0.0, 0.0, 0.0, 0.0, 0.0, 0.0, 0.0, 0.0, 0.0, 0.0, 0.0, 0.0, 0.0, 0.0, 0.0, 0.0, 0.0, 0.0, 0.0, 0.0, 0.0, 0.0, 0.0, 0.0, 0.0, 0.0, 0.0, 0.0, 0.0, 0.0, 0.0, 0.0, 0.0, 0.0, 0.0, 0.0, 0.0, 0.0, 0.0, 0.0, 0.0, 0.0, 0.0, 0.0, 0.0, 0.0, 0.0, 0.0, 0.0, 0.0, 0.0, 0.0, 0.0, 0.0, 0.0, 0.0, 0.0, 0.0, 0.0, 0.0, 0.0, 0.0, 0.0, 0.0, 0.0, 0.0, 0.0, 0.0, 0.0, 0.0, 0.0, 0.0, 0.0, 0.0, 0.0, 0.0, 0.0, 0.0, 0.0, 0.0, 0.0, 0.0, 0.0, 0.0, 0.0, 0.0, 0.0, 0.0, 0.0, 0.0, 0.0, 0.0, 0.0, 0.0, 0.0, 0.0, 0.0, 0.0, 0.0, 0.0, 0.0, 0.0, 0.0, 0.0, 0.0, 0.0, 0.0, 0.0, 0.0, 0.0, 0.0, 0.0, 0.0, 0.0, 0.0, 0.0, 0.0, 0.0, 0.0, 0.0, 0.0, 0.0, 0.0, 0.0, 0.0, 0.0, 0.0, 0.0, 0.0, 0.0, 0.0, 0.0, 0.0, 0.0, 0.0, 0.0, 0.0, 0.0, 0.0, 0.0, 0.0, 0.0, 0.0, 0.0, 0.0, 0.0, 0.0, 0.0, 0.0, 0.0, 0.0, 0.0, 0.0, 0.0, 0.0, 0.0, 0.0, 0.0, 0.0, 0.0, 0.0, 0.0, 0.0, 0.0, 0.0, 0.0, 0.0, 0.0, 0.0, 0.0, 0.0, 0.0, 0.0, 0.0, 0.0, 0.0, 0.0, 0.0, 0.0, 0.0, 0.0, 0.0, 0.0, 0.0, 0.0, 0.0, 0.0, 0.0, 0.0, 0.0, 0.0, 0.0, 0.0, 0.0, 0.0, 0.0, 0.0, 0.0, 0.0, 0.0, 0.0, 0.0, 0.0, 0.0, 0.0, 0.0, 0.0, 0.0, 0.0, 0.0, 0.0, 0.0, 0.0, 0.0, 0.0, 0.0, 0.0, 0.0, 0.0, 0.0, 0.0, 0.0, 0.0, 0.0, 0.0, 0.0, 0.0, 0.0, 0.0, 0.0, 0.0, 0.0, 0.0, 0.0, 0.0, 0.0, 0.0, 0.0, 0.0, 0.0, 0.0, 0.0, 0.0, 0.0, 0.0, 0.0, 0.0, 0.0, 0.0, 0.0, 0.0, 0.0, 0.0, 0.0, 0.0, 0.0, 0.0, 0.0, 0.0, 0.0, 0.0, 0.0, 0.0, 0.0, 0.0, 0.0, 0.0, 0.0, 0.0, 0.0, 0.0, 0.0, 0.0, 0.0, 0.0, 0.0, 0.0, 0.0, 0.0, 0.0, 0.0, 0.0, 0.0, 0.0, 0.0, 0.0, 0.0, 0.0, 0.0, 0.0, 0.0, 0.0, 0.0, 0.0, 0.0, 0.0, 0.0, 0.0, 0.0, 0.0, 0.0, 0.0, 0.0, 0.0, 0.0, 0.0, 0.0, 0.0, 0.0, 0.0, 0.0, 0.0, 0.0, 0.0, 0.0, 0.0, 0.0, 0.0, 0.0, 0.0, 0.0, 0.0, 0.0, 0.0, 0.0, 0.0, 0.0, 0.0, 0.0, 0.0, 0.0, 0.0, 0.0, 0.0, 0.0, 0.0, 0.0, 0.0, 0.0, 0.0, 0.0, 0.0, 0.0, 0.0, 0.0, 0.0, 0.0, 0.0, 0.0, 0.0, 0.0, 0.0, 0.0, 0.0, 0.0, 0.0, 0.0, 0.0, 0.0, 0.0, 0.0, 0.0, 0.0, 0.0, 0.0, 0.0, 0.0, 0.0, 0.0, 0.0, 0.0, 0.0, 0.0, 0.0, 0.0, 0.0, 0.0, 0.0, 0.0, 0.0, 0.0, 0.0, 0.0, 0.0, 0.0, 0.0, 0.0, 0.0, 0.0, 0.0, 0.0, 0.0, 0.0, 0.0, 0.0, 0.0, 0.0, 0.0, 0.0, 0.0, 0.0, 0.0, 0.0, 0.0, 0.0, 0.0, 0.0, 0.0]\n"
     ]
    }
   ],
   "source": [
    "print(\"\\n================\\nNon Ultrasound (US) measured/recorded data\\n==================\")\n",
    "# thus, they are not related to a number of configuration nor a receiving channel\n",
    "# could be empty if no such data is available or has been recorded\n",
    "if data_dicts:\n",
    "    print(\"Available non US datatypes: \", data_dicts.keys()) # gives the datatypes available for this recording\n",
    "    first_datatype = list(data_dicts.keys())[0] # one of those datatypes\n",
    "    print(\"timestamp list for the first datatype %s: \"%first_datatype, data_dicts[first_datatype][\"time\"]) # gives the list of timestamps associated to the list of values for this datatype\n",
    "    print(\"and corresponding data: \", data_dicts[first_datatype][\"data\"]) # gives the list of values associated to the list of timestamps for this datatype. The values cas be arrays.\n"
   ]
  },
  {
   "cell_type": "code",
   "execution_count": 6,
   "metadata": {},
   "outputs": [
    {
     "name": "stdout",
     "output_type": "stream",
     "text": [
      "\n",
      "================\n",
      "Ultrasound (US) measured/recorded data\n",
      "==================\n",
      "dict_keys(['echo_profile', 'saturation_profile', 'velocity_profile', 'snr_doppler_profile', 'a1_param', 'a0_param', 'noise_g_high', 'noise_g_low'])\n",
      "earliest available data: 2022-04-28 12:15:59.896000\n",
      "lastest available data: 2022-04-28 12:18:26.872000\n",
      "705\n"
     ]
    }
   ],
   "source": [
    "\n",
    "print(\"\\n================\\nUltrasound (US) measured/recorded data\\n==================\")\n",
    "# those are also first arranged by configuration number and receiving channel number\n",
    "print(data_us_dicts[first_configuration][first_channel].keys()) # gives the US datatypes available for one configuration and one channel\n",
    "first_us_datatype = list(data_us_dicts[first_configuration][first_channel].keys())[0]\n",
    "timestamp_first_US_datatype = data_us_dicts[first_configuration][first_channel][first_us_datatype][\"time\"] # gives the list of timestamps associated to the list of values for this datatype\n",
    "print(\"earliest available data: %s\\nlastest available data: %s\"%(min(timestamp_first_US_datatype),max(timestamp_first_US_datatype)))\n",
    "corresponding_US_data = data_us_dicts[first_configuration][first_channel][first_us_datatype][\"data\"] # gives the list of values associated to the list of timestamps for this datatype. The values cas be arrays.\n",
    "print(len(corresponding_US_data))"
   ]
  },
  {
   "cell_type": "markdown",
   "metadata": {},
   "source": [
    "Saving to file in parts"
   ]
  },
  {
   "cell_type": "code",
   "execution_count": null,
   "metadata": {},
   "outputs": [],
   "source": [
    "print(\"\\n================\\nSaving the data in parts to file\\n==================\")\n",
    "nt = len(data_us_dicts[1][1][\"velocity_profile\"]['time'])\n",
    "nparts = int(np.ceil(nt/1e5))\n",
    "bl = int(1e5)\n",
    "# save in blocks of 1e5 moments in time\n",
    "for ipart in range(nparts-1):\n",
    "    with open(os.path.join(pathout, 'time_1_{}.pickle'.format(ipart)), 'wb') as handle:\n",
    "        pickle.dump(data_us_dicts[1][1][\"velocity_profile\"]['time'][ipart*bl:(ipart+1)*bl], handle, protocol=pickle.HIGHEST_PROTOCOL)\n",
    "    with open(os.path.join(pathout, 'time_2_{}.pickle'.format(ipart)), 'wb') as handle:\n",
    "        pickle.dump(data_us_dicts[1][1][\"velocity_profile\"]['time'][ipart*bl:(ipart+1)*bl], handle, protocol=pickle.HIGHEST_PROTOCOL)\n",
    "    with open(os.path.join(pathout, 'time_3_{}.pickle'.format(ipart)), 'wb') as handle:\n",
    "        pickle.dump(data_us_dicts[1][1][\"velocity_profile\"]['time'][ipart*bl:(ipart+1)*bl], handle, protocol=pickle.HIGHEST_PROTOCOL)\n",
    "    with open(os.path.join(pathout, 'time_4_{}.pickle'.format(ipart)), 'wb') as handle:\n",
    "        pickle.dump(data_us_dicts[1][1][\"velocity_profile\"]['time'][ipart*bl:(ipart+1)*bl], handle, protocol=pickle.HIGHEST_PROTOCOL)\n",
    "    with open(os.path.join(pathout, 'vel_1_{}.pickle'.format(ipart)), 'wb') as handle:\n",
    "        pickle.dump(data_us_dicts[1][1][\"velocity_profile\"]['data'][ipart*bl:(ipart+1)*bl], handle, protocol=pickle.HIGHEST_PROTOCOL)\n",
    "    with open(os.path.join(pathout, 'vel_2_{}.pickle'.format(ipart)), 'wb') as handle:\n",
    "        pickle.dump(data_us_dicts[1][2][\"velocity_profile\"]['data'][ipart*bl:(ipart+1)*bl], handle, protocol=pickle.HIGHEST_PROTOCOL)\n",
    "    with open(os.path.join(pathout, 'vel_3_{}.pickle'.format(ipart)), 'wb') as handle:\n",
    "        pickle.dump(data_us_dicts[1][3][\"velocity_profile\"]['data'][ipart*bl:(ipart+1)*bl], handle, protocol=pickle.HIGHEST_PROTOCOL)\n",
    "    with open(os.path.join(pathout, 'vel_4_{}.pickle'.format(ipart)), 'wb') as handle:\n",
    "        pickle.dump(data_us_dicts[1][4][\"velocity_profile\"]['data'][ipart*bl:(ipart+1)*bl], handle, protocol=pickle.HIGHEST_PROTOCOL)\n",
    "    with open(os.path.join(pathout, 'a_1_{}.pickle'.format(ipart)), 'wb') as handle:\n",
    "        pickle.dump(data_us_dicts[1][1][\"echo_profile\"]['data'][ipart*bl:(ipart+1)*bl], handle, protocol=pickle.HIGHEST_PROTOCOL)\n",
    "    with open(os.path.join(pathout, 'a_2_{}.pickle'.format(ipart)), 'wb') as handle:\n",
    "        pickle.dump(data_us_dicts[1][2][\"echo_profile\"]['data'][ipart*bl:(ipart+1)*bl], handle, protocol=pickle.HIGHEST_PROTOCOL)\n",
    "    with open(os.path.join(pathout, 'a_3_{}.pickle'.format(ipart)), 'wb') as handle:\n",
    "        pickle.dump(data_us_dicts[1][3][\"echo_profile\"]['data'][ipart*bl:(ipart+1)*bl], handle, protocol=pickle.HIGHEST_PROTOCOL)\n",
    "    with open(os.path.join(pathout, 'a_4_{}.pickle'.format(ipart)), 'wb') as handle:\n",
    "        pickle.dump(data_us_dicts[1][4][\"echo_profile\"]['data'][ipart*bl:(ipart+1)*bl], handle, protocol=pickle.HIGHEST_PROTOCOL)\n",
    "    with open(os.path.join(pathout, 'snr_1_{}.pickle'.format(ipart)), 'wb') as handle:\n",
    "        pickle.dump(data_us_dicts[1][1][\"snr_doppler_profile\"]['data'][ipart*bl:(ipart+1)*bl], handle, protocol=pickle.HIGHEST_PROTOCOL)\n",
    "    with open(os.path.join(pathout, 'snr_2_{}.pickle'.format(ipart)), 'wb') as handle:\n",
    "        pickle.dump(data_us_dicts[1][2][\"snr_doppler_profile\"]['data'][ipart*bl:(ipart+1)*bl], handle, protocol=pickle.HIGHEST_PROTOCOL)\n",
    "    with open(os.path.join(pathout, 'snr_3_{}.pickle'.format(ipart)), 'wb') as handle:\n",
    "        pickle.dump(data_us_dicts[1][3][\"snr_doppler_profile\"]['data'][ipart*bl:(ipart+1)*bl], handle, protocol=pickle.HIGHEST_PROTOCOL)\n",
    "    with open(os.path.join(pathout, 'snr_4_{}.pickle'.format(ipart)), 'wb') as handle:\n",
    "        pickle.dump(data_us_dicts[1][4][\"snr_doppler_profile\"]['data'][ipart*bl:(ipart+1)*bl], handle, protocol=pickle.HIGHEST_PROTOCOL)   \n",
    "\n",
    "#save the last part\n",
    "with open(os.path.join(pathout, 'time_1_{}.pickle'.format(nparts-1)), 'wb') as handle:\n",
    "    pickle.dump(data_us_dicts[1][1][\"velocity_profile\"]['time'][(nparts-1)*bl:], handle, protocol=pickle.HIGHEST_PROTOCOL)\n",
    "with open(os.path.join(pathout, 'time_2_{}.pickle'.format(nparts-1)), 'wb') as handle:\n",
    "    pickle.dump(data_us_dicts[1][1][\"velocity_profile\"]['time'][(nparts-1)*bl:], handle, protocol=pickle.HIGHEST_PROTOCOL)\n",
    "with open(os.path.join(pathout, 'time_3_{}.pickle'.format(nparts-1)), 'wb') as handle:\n",
    "    pickle.dump(data_us_dicts[1][1][\"velocity_profile\"]['time'][(nparts-1)*bl:], handle, protocol=pickle.HIGHEST_PROTOCOL)\n",
    "with open(os.path.join(pathout, 'time_4_{}.pickle'.format(nparts-1)), 'wb') as handle:\n",
    "    pickle.dump(data_us_dicts[1][1][\"velocity_profile\"]['time'][(nparts-1)*bl:], handle, protocol=pickle.HIGHEST_PROTOCOL)\n",
    "with open(os.path.join(pathout, 'vel_1_{}.pickle'.format(nparts-1)), 'wb') as handle:\n",
    "    pickle.dump(data_us_dicts[1][1][\"velocity_profile\"]['data'][(nparts-1)*bl:], handle, protocol=pickle.HIGHEST_PROTOCOL)\n",
    "with open(os.path.join(pathout, 'vel_2_{}.pickle'.format(nparts-1)), 'wb') as handle:\n",
    "    pickle.dump(data_us_dicts[1][2][\"velocity_profile\"]['data'][(nparts-1)*bl:], handle, protocol=pickle.HIGHEST_PROTOCOL)\n",
    "with open(os.path.join(pathout, 'vel_3_{}.pickle'.format(nparts-1)), 'wb') as handle:\n",
    "    pickle.dump(data_us_dicts[1][3][\"velocity_profile\"]['data'][(nparts-1)*bl:], handle, protocol=pickle.HIGHEST_PROTOCOL)\n",
    "with open(os.path.join(pathout, 'vel_4_{}.pickle'.format(nparts-1)), 'wb') as handle:\n",
    "    pickle.dump(data_us_dicts[1][4][\"velocity_profile\"]['data'][(nparts-1)*bl:], handle, protocol=pickle.HIGHEST_PROTOCOL)\n",
    "with open(os.path.join(pathout, 'a_1_{}.pickle'.format(nparts-1)), 'wb') as handle:\n",
    "    pickle.dump(data_us_dicts[1][1][\"echo_profile\"]['data'][(nparts-1)*bl:], handle, protocol=pickle.HIGHEST_PROTOCOL)\n",
    "with open(os.path.join(pathout, 'a_2_{}.pickle'.format(nparts-1)), 'wb') as handle:\n",
    "    pickle.dump(data_us_dicts[1][2][\"echo_profile\"]['data'][(nparts-1)*bl:], handle, protocol=pickle.HIGHEST_PROTOCOL)\n",
    "with open(os.path.join(pathout, 'a_3_{}.pickle'.format(nparts-1)), 'wb') as handle:\n",
    "    pickle.dump(data_us_dicts[1][3][\"echo_profile\"]['data'][(nparts-1)*bl:], handle, protocol=pickle.HIGHEST_PROTOCOL)\n",
    "with open(os.path.join(pathout, 'a_4_{}.pickle'.format(nparts-1)), 'wb') as handle:\n",
    "    pickle.dump(data_us_dicts[1][4][\"echo_profile\"]['data'][(nparts-1)*bl:-1], handle, protocol=pickle.HIGHEST_PROTOCOL)\n",
    "with open(os.path.join(pathout, 'snr_1_{}.pickle'.format(nparts-1)), 'wb') as handle:\n",
    "    pickle.dump(data_us_dicts[1][1][\"snr_doppler_profile\"]['data'][(nparts-1)*bl:-1], handle, protocol=pickle.HIGHEST_PROTOCOL)\n",
    "with open(os.path.join(pathout, 'snr_2_{}.pickle'.format(nparts-1)), 'wb') as handle:\n",
    "    pickle.dump(data_us_dicts[1][1][\"snr_doppler_profile\"]['data'][(nparts-1)*bl:-1], handle, protocol=pickle.HIGHEST_PROTOCOL)\n",
    "with open(os.path.join(pathout, 'snr_3_{}.pickle'.format(nparts-1)), 'wb') as handle:\n",
    "    pickle.dump(data_us_dicts[1][1][\"snr_doppler_profile\"]['data'][(nparts-1)*bl:-1], handle, protocol=pickle.HIGHEST_PROTOCOL)\n",
    "with open(os.path.join(pathout, 'snr_4_{}.pickle'.format(nparts-1)), 'wb') as handle:\n",
    "    pickle.dump(data_us_dicts[1][1][\"snr_doppler_profile\"]['data'][(nparts-1)*bl:-1], handle, protocol=pickle.HIGHEST_PROTOCOL)\n"
   ]
  },
  {
   "cell_type": "code",
   "execution_count": null,
   "metadata": {},
   "outputs": [],
   "source": [
    "print(\"\\n================\\nSaving the data in parts to file\\n==================\")\n",
    "with open(os.path.join(pathout, 'time_orientation.pickle'.format(ipart)), 'wb') as handle:\n",
    "    pickle.dump(data_dicts[\"pitch\"]['time'], handle, protocol=pickle.HIGHEST_PROTOCOL)\n",
    "with open(os.path.join(pathout, 'pitch.pickle'.format(ipart)), 'wb') as handle:\n",
    "    pickle.dump(data_dicts[\"pitch\"]['data'], handle, protocol=pickle.HIGHEST_PROTOCOL)    \n",
    "with open(os.path.join(pathout, 'roll.pickle'.format(ipart)), 'wb') as handle:\n",
    "    pickle.dump(data_dicts[\"roll\"]['data'], handle, protocol=pickle.HIGHEST_PROTOCOL)"
   ]
  },
  {
   "cell_type": "code",
   "execution_count": null,
   "metadata": {},
   "outputs": [],
   "source": []
  }
 ],
 "metadata": {
  "kernelspec": {
   "display_name": "work",
   "language": "python",
   "name": "python3"
  },
  "language_info": {
   "codemirror_mode": {
    "name": "ipython",
    "version": 3
   },
   "file_extension": ".py",
   "mimetype": "text/x-python",
   "name": "python",
   "nbconvert_exporter": "python",
   "pygments_lexer": "ipython3",
   "version": "3.10.11"
  }
 },
 "nbformat": 4,
 "nbformat_minor": 2
}
